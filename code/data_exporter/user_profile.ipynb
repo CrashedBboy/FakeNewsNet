{
 "cells": [
  {
   "cell_type": "code",
   "execution_count": 1,
   "metadata": {},
   "outputs": [],
   "source": [
    "import pandas as pd\n",
    "import json\n",
    "import csv"
   ]
  },
  {
   "cell_type": "code",
   "execution_count": 2,
   "metadata": {},
   "outputs": [],
   "source": [
    "DATASET_BASE = \"../fakenewsnet_dataset\"\n",
    "NEWS_PATH = f\"{DATASET_BASE}/politifact/fake\""
   ]
  },
  {
   "cell_type": "code",
   "execution_count": 3,
   "metadata": {},
   "outputs": [],
   "source": [
    "train_id_df = pd.read_csv(\"../exported/train_ids.csv\", header = 0)\n",
    "cv_id_df = pd.read_csv(\"../exported/cv_ids.csv\", header = 0)\n",
    "test_id_df = pd.read_csv(\"../exported/test_ids.csv\", header = 0)"
   ]
  },
  {
   "cell_type": "code",
   "execution_count": 4,
   "metadata": {
    "scrolled": true
   },
   "outputs": [
    {
     "name": "stdout",
     "output_type": "stream",
     "text": [
      "........................................................................................................................................................................................................................................................................................................................................................................................................................................................................................................................................................................................................................................................................................................................................................................................................................................................................................................................................................................."
     ]
    }
   ],
   "source": [
    "uids = []\n",
    "\n",
    "# text\n",
    "descriptions = []\n",
    "locations = []\n",
    "\n",
    "# numeric\n",
    "followers_counts = []\n",
    "friends_counts = []\n",
    "listed_counts = []\n",
    "favorites_counts = []\n",
    "statuses_counts = []\n",
    "\n",
    "# boolean\n",
    "protecteds = []\n",
    "geo_enableds = []\n",
    "verifieds = []\n",
    "\n",
    "for idx, row in train_id_df.iterrows():\n",
    "    \n",
    "    if idx % 100 == 0:\n",
    "        print(\".\", end=\"\")\n",
    "    \n",
    "    with open(f\"{NEWS_PATH}/{row['news_id']}/tweets/{row['source_tweet_id']}.json\", \"r\") as f:\n",
    "        t = json.loads(f.read())\n",
    "        u = t['user']\n",
    "        \n",
    "        uids.append(u['id'])\n",
    "        descriptions.append(u['description'])\n",
    "        locations.append(u['location'])\n",
    "        followers_counts.append(u['followers_count'])\n",
    "        friends_counts.append(u['friends_count'])\n",
    "        listed_counts.append(u['listed_count'])\n",
    "        favorites_counts.append(u['favourites_count'])\n",
    "        statuses_counts.append(u['statuses_count'])\n",
    "        protecteds.append(u['protected'])\n",
    "        geo_enableds.append(u['geo_enabled'])\n",
    "        verifieds.append(u['verified'])"
   ]
  },
  {
   "cell_type": "code",
   "execution_count": 5,
   "metadata": {},
   "outputs": [],
   "source": [
    "for idx, des in enumerate(descriptions):\n",
    "    descriptions[idx] = des.replace(\"\\r\\n\", \" \").replace(\"\\n\", \" \")\n",
    "    \n",
    "for idx, loc in enumerate(locations):\n",
    "    locations[idx] = loc.replace(\"\\r\\n\", \" \").replace(\"\\n\", \" \")"
   ]
  },
  {
   "cell_type": "code",
   "execution_count": 6,
   "metadata": {},
   "outputs": [],
   "source": [
    "train_id_df['uid'] = uids\n",
    "train_id_df['description'] = descriptions\n",
    "train_id_df['location'] = locations\n",
    "train_id_df['protected'] = protecteds\n",
    "train_id_df['geo_enabled'] = geo_enableds\n",
    "train_id_df['verified'] = verifieds\n",
    "train_id_df['followers_count'] = followers_counts\n",
    "train_id_df['friends_count'] = friends_counts\n",
    "train_id_df['listed_count'] = listed_counts\n",
    "train_id_df['favorites_count'] = favorites_counts\n",
    "train_id_df['statuses_count'] = statuses_counts"
   ]
  },
  {
   "cell_type": "code",
   "execution_count": 7,
   "metadata": {
    "scrolled": true
   },
   "outputs": [],
   "source": [
    "train_df = train_id_df[[\n",
    "    'news_id', 'source_tweet_id', 'uid',\n",
    "    'description', 'location',\n",
    "    'protected', 'geo_enabled', 'verified',\n",
    "    'followers_count', 'friends_count', 'listed_count', 'favorites_count', 'statuses_count',\n",
    "    'cascade_size']]"
   ]
  },
  {
   "cell_type": "code",
   "execution_count": 8,
   "metadata": {},
   "outputs": [],
   "source": [
    "train_df.to_csv(\"../exported/user_profile_train.csv\", header = True, index = False, quoting = csv.QUOTE_NONNUMERIC, quotechar='\"')"
   ]
  },
  {
   "cell_type": "markdown",
   "metadata": {},
   "source": [
    "## Check"
   ]
  },
  {
   "cell_type": "code",
   "execution_count": 14,
   "metadata": {},
   "outputs": [
    {
     "name": "stdout",
     "output_type": "stream",
     "text": [
      "0\n"
     ]
    }
   ],
   "source": [
    "with open(\"../exported/user_profile_test.csv\", \"r\", encoding=\"utf-8\") as f:\n",
    "    for idx, line in enumerate(f.readlines()):\n",
    "        if line[:5] != '\"poli':\n",
    "            print(idx)"
   ]
  }
 ],
 "metadata": {
  "kernelspec": {
   "display_name": "Python 3",
   "language": "python",
   "name": "python3"
  },
  "language_info": {
   "codemirror_mode": {
    "name": "ipython",
    "version": 3
   },
   "file_extension": ".py",
   "mimetype": "text/x-python",
   "name": "python",
   "nbconvert_exporter": "python",
   "pygments_lexer": "ipython3",
   "version": "3.8.5"
  }
 },
 "nbformat": 4,
 "nbformat_minor": 4
}
