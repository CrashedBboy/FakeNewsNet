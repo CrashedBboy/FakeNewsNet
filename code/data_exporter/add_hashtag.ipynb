{
 "cells": [
  {
   "cell_type": "code",
   "execution_count": 17,
   "metadata": {},
   "outputs": [],
   "source": [
    "import pandas as pd\n",
    "import json\n",
    "import csv\n",
    "import statistics\n",
    "\n",
    "from datetime import date, timedelta"
   ]
  },
  {
   "cell_type": "code",
   "execution_count": 10,
   "metadata": {},
   "outputs": [],
   "source": [
    "# convert month string to number\n",
    "def month_str_to_num(month_string):\n",
    "    month_dict = {\n",
    "        \"Jan\": 1,\n",
    "        \"Feb\": 2,\n",
    "        \"Mar\": 3,\n",
    "        \"Apr\": 4,\n",
    "        \"May\": 5,\n",
    "        \"Jun\": 6,\n",
    "        \"Jul\": 7,\n",
    "        \"Aug\": 8,\n",
    "        \"Sep\": 9,\n",
    "        \"Oct\": 10,\n",
    "        \"Nov\": 11,\n",
    "        \"Dec\": 12\n",
    "    }\n",
    "\n",
    "    if month_string in month_dict:\n",
    "        return month_dict[month_string]\n",
    "    else:\n",
    "        return -1\n",
    "\n",
    "def get_post_datetime(datatime_str):\n",
    "\n",
    "    # example of date string: \"Fri Dec 08 17:08:28 +0000 2017\"\n",
    "\n",
    "    datetime_slices = datatime_str.split(\" \")\n",
    "\n",
    "    year = int(datetime_slices[5])\n",
    "    month = month_str_to_num(datetime_slices[1])\n",
    "    assert month >= 1\n",
    "    day = int(datetime_slices[2])\n",
    "\n",
    "    return date(year, month, day)"
   ]
  },
  {
   "cell_type": "code",
   "execution_count": 2,
   "metadata": {},
   "outputs": [],
   "source": [
    "DATASET_BASE = \"../fakenewsnet_dataset\"\n",
    "NEWS_PATH = f\"{DATASET_BASE}/politifact/fake\""
   ]
  },
  {
   "cell_type": "code",
   "execution_count": 3,
   "metadata": {},
   "outputs": [],
   "source": [
    "train_id_df = pd.read_csv(\"../exported/train_ids.csv\", header = 0)\n",
    "cv_id_df = pd.read_csv(\"../exported/cv_ids.csv\", header = 0)\n",
    "test_id_df = pd.read_csv(\"../exported/test_ids.csv\", header = 0)"
   ]
  },
  {
   "cell_type": "code",
   "execution_count": 20,
   "metadata": {},
   "outputs": [
    {
     "name": "stdout",
     "output_type": "stream",
     "text": [
      "0.1000.2000.3000.4000.5000.6000.7000.8000.9000.10000.11000.12000.13000.14000.15000.16000.17000.18000.19000.20000.21000.22000.23000.24000.25000.26000.27000.28000.29000.30000.31000.32000.33000.34000.35000.36000.37000.38000.39000.40000.41000.42000.43000.44000.45000.46000.47000.48000.49000.50000.51000.52000.53000.54000.55000.56000.57000.58000.59000.60000.61000.62000.63000.64000.65000.66000.67000.68000.69000.70000.71000.72000.73000.74000.75000.76000.77000.78000.79000.80000.81000.82000.83000.84000.85000.86000.87000.88000.89000.90000.91000.92000.93000.0.1000.2000.3000.4000.5000.6000.7000.8000.9000.10000.11000.0.1000.2000.3000.4000.5000.6000.7000.8000.9000.10000.11000."
     ]
    }
   ],
   "source": [
    "dfs = [train_id_df, cv_id_df, test_id_df]\n",
    "\n",
    "for df in dfs:\n",
    "    hash_tags = []\n",
    "    dates = []\n",
    "    early_dates = []\n",
    "    for idx, row in df.iterrows():\n",
    "\n",
    "        if idx % 1000 == 0:\n",
    "            print(idx, end=\".\")\n",
    "\n",
    "        with open(f\"{NEWS_PATH}/{row['news_id']}/tweets/{row['source_tweet_id']}.json\", \"r\") as f:\n",
    "            t = json.loads(f.read())\n",
    "\n",
    "            tags = []\n",
    "            for tag in t['entities']['hashtags']:\n",
    "                tags.append(tag['text'])\n",
    "\n",
    "            hash_tags.append(\",\".join(tags))\n",
    "            \n",
    "            d1 = get_post_datetime(t['created_at'])\n",
    "            dates.append(f\"{d1.year}-{d1.month:02d}-{d1.day:02d}\")\n",
    "            \n",
    "            d0 = d1 - timedelta(days=6)\n",
    "            early_dates.append(f\"{d0.year}-{d0.month:02d}-{d0.day:02d}\")\n",
    "            \n",
    "    df['hash_tags'] = hash_tags\n",
    "    df['d0'] = early_dates\n",
    "    df['d1'] = dates"
   ]
  },
  {
   "cell_type": "code",
   "execution_count": 21,
   "metadata": {},
   "outputs": [],
   "source": [
    "train_id_df.to_csv(\"../exported/hash_tag_train.csv\", header = True, index = False, quoting = csv.QUOTE_NONNUMERIC, quotechar='\"')\n",
    "cv_id_df.to_csv(\"../exported/hash_tag_cv.csv\", header = True, index = False, quoting = csv.QUOTE_NONNUMERIC, quotechar='\"')\n",
    "test_id_df.to_csv(\"../exported/hash_tag_test.csv\", header = True, index = False, quoting = csv.QUOTE_NONNUMERIC, quotechar='\"')"
   ]
  }
 ],
 "metadata": {
  "kernelspec": {
   "display_name": "Python 3",
   "language": "python",
   "name": "python3"
  },
  "language_info": {
   "codemirror_mode": {
    "name": "ipython",
    "version": 3
   },
   "file_extension": ".py",
   "mimetype": "text/x-python",
   "name": "python",
   "nbconvert_exporter": "python",
   "pygments_lexer": "ipython3",
   "version": "3.8.5"
  }
 },
 "nbformat": 4,
 "nbformat_minor": 4
}
